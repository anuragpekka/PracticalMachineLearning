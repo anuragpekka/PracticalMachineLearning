{
 "cells": [
  {
   "cell_type": "code",
   "execution_count": 35,
   "id": "911cddb0-10f1-43de-ac35-bc1b1146569a",
   "metadata": {},
   "outputs": [],
   "source": [
    "from ucimlrepo import fetch_ucirepo \n",
    "import pandas as pd\n",
    "from sklearn.linear_model import LinearRegression, Ridge\n",
    "import numpy as np\n",
    "from sklearn.metrics import r2_score, mean_squared_error \n",
    "from sklearn.pipeline import Pipeline\n",
    "from sklearn.model_selection import train_test_split\n",
    "from sklearn.preprocessing import StandardScaler, MinMaxScaler, PolynomialFeatures"
   ]
  },
  {
   "cell_type": "code",
   "execution_count": 36,
   "id": "0c24b6d9-47c0-4a5b-96c3-172aef228e35",
   "metadata": {},
   "outputs": [
    {
     "data": {
      "text/plain": [
       "(array([-23.33121358]),\n",
       " array([[ 0.11980433,  0.10386581,  0.08793432, -0.14991842,  0.2922246 ,\n",
       "          0.01808621,  0.02019035,  0.11422207]]))"
      ]
     },
     "execution_count": 36,
     "metadata": {},
     "output_type": "execute_result"
    }
   ],
   "source": [
    "concrete_compressive_strength = fetch_ucirepo(id=165) \n",
    "X = concrete_compressive_strength.data.features \n",
    "y = concrete_compressive_strength.data.targets\n",
    "lr = LinearRegression()\n",
    "lr.fit(X, y)\n",
    "lr.intercept_, lr.coef_"
   ]
  },
  {
   "cell_type": "code",
   "execution_count": 37,
   "id": "d82080b2-94b1-456b-85ce-e0fe44f72d9e",
   "metadata": {},
   "outputs": [
    {
     "data": {
      "text/plain": [
       "(array([-23.32957301]),\n",
       " array([[ 0.11980439,  0.10386586,  0.08793476, -0.14992243,  0.2922038 ,\n",
       "          0.01808557,  0.0201901 ,  0.11422205]]))"
      ]
     },
     "execution_count": 37,
     "metadata": {},
     "output_type": "execute_result"
    }
   ],
   "source": [
    "ridge = Ridge()\n",
    "ridge.fit(X, y)\n",
    "ridge.intercept_, ridge.coef_"
   ]
  },
  {
   "cell_type": "markdown",
   "id": "302ea130-816e-480e-98d5-d889650e6b87",
   "metadata": {},
   "source": [
    "Linear Regression"
   ]
  },
  {
   "cell_type": "code",
   "execution_count": 38,
   "id": "421e3b8e-c857-43ed-938d-4a97f0170350",
   "metadata": {},
   "outputs": [],
   "source": [
    "X_train, X_test, y_train, y_test = train_test_split(X, y, random_state=24, test_size=0.3)\n",
    "lr = LinearRegression()\n",
    "lr.fit(X_train, y_train)\n",
    "y_pred = lr.predict(X_test)\n"
   ]
  },
  {
   "cell_type": "code",
   "execution_count": 39,
   "id": "7ac9160d",
   "metadata": {},
   "outputs": [
    {
     "data": {
      "text/plain": [
       "(0.5771752777048793, np.float64(109.05454495326019))"
      ]
     },
     "execution_count": 39,
     "metadata": {},
     "output_type": "execute_result"
    }
   ],
   "source": [
    "r2_score(y_test, y_pred), mean_squared_error(y_test, y_pred)"
   ]
  },
  {
   "cell_type": "markdown",
   "id": "31af735d-1a3b-458b-89db-bdca5c1b2f6e",
   "metadata": {},
   "source": [
    "Ridge"
   ]
  },
  {
   "cell_type": "code",
   "execution_count": 40,
   "id": "f455290f-4854-4623-a191-c2bc56865261",
   "metadata": {},
   "outputs": [],
   "source": [
    "ridge = Ridge()\n",
    "ridge.fit(X_train, y_train)\n",
    "y_pred = ridge.predict(X_test)\n"
   ]
  },
  {
   "cell_type": "code",
   "execution_count": 41,
   "id": "619e18d4",
   "metadata": {},
   "outputs": [
    {
     "data": {
      "text/plain": [
       "(0.5771749099675625, np.float64(109.05463979971461))"
      ]
     },
     "execution_count": 41,
     "metadata": {},
     "output_type": "execute_result"
    }
   ],
   "source": [
    "r2_score(y_test, y_pred), mean_squared_error(y_test, y_pred)"
   ]
  },
  {
   "cell_type": "markdown",
   "id": "0a2b9c9d-bfd6-428c-94ff-79355576bf98",
   "metadata": {},
   "source": [
    "Ridge + Polynomial Features"
   ]
  },
  {
   "cell_type": "code",
   "execution_count": 42,
   "id": "373d4e65-689d-4fd0-89b2-c5db081de2e0",
   "metadata": {},
   "outputs": [],
   "source": [
    "poly = PolynomialFeatures(degree=2, include_bias=False).set_output(transform='pandas')\n",
    "X_poly_trn = poly.fit_transform(X_train)\n",
    "X_poly_tst = poly.transform(X_test)\n",
    "ridge.fit(X_poly_trn, y_train)\n",
    "y_pred = ridge.predict(X_poly_tst)"
   ]
  },
  {
   "cell_type": "code",
   "execution_count": 43,
   "id": "1d59fa9c",
   "metadata": {},
   "outputs": [
    {
     "data": {
      "text/plain": [
       "(0.7787728514690129, np.float64(57.05869298133164))"
      ]
     },
     "execution_count": 43,
     "metadata": {},
     "output_type": "execute_result"
    }
   ],
   "source": [
    "r2_score(y_test, y_pred), mean_squared_error(y_test, y_pred)"
   ]
  },
  {
   "cell_type": "code",
   "execution_count": 44,
   "id": "389fc679-ae7d-4d82-9cba-ed60d2e4956b",
   "metadata": {},
   "outputs": [
    {
     "name": "stderr",
     "output_type": "stream",
     "text": [
      "C:\\Users\\anu\\anaconda3\\envs\\py3_12_0\\Lib\\site-packages\\sklearn\\linear_model\\_ridge.py:216: LinAlgWarning: Ill-conditioned matrix (rcond=9.96075e-21): result may not be accurate.\n",
      "  return linalg.solve(A, Xy, assume_a=\"pos\", overwrite_a=True).T\n"
     ]
    }
   ],
   "source": [
    "poly = PolynomialFeatures(degree=3,include_bias=False).set_output(transform='pandas')\n",
    "X_poly_trn = poly.fit_transform(X_train)\n",
    "X_poly_tst = poly.transform(X_test)\n",
    "ridge.fit(X_poly_trn, y_train)\n",
    "y_pred = ridge.predict(X_poly_tst)\n"
   ]
  },
  {
   "cell_type": "code",
   "execution_count": 45,
   "id": "e1b8f0c9",
   "metadata": {},
   "outputs": [
    {
     "data": {
      "text/plain": [
       "(0.86950650692776, np.float64(33.65675599361417))"
      ]
     },
     "execution_count": 45,
     "metadata": {},
     "output_type": "execute_result"
    }
   ],
   "source": [
    "r2_score(y_test, y_pred), mean_squared_error(y_test, y_pred)"
   ]
  },
  {
   "cell_type": "markdown",
   "id": "6161c5cc-180d-4a2d-aa57-024675d38129",
   "metadata": {},
   "source": [
    "Filtered the extracted features based on coefficient values"
   ]
  },
  {
   "cell_type": "code",
   "execution_count": 46,
   "id": "0a5ec13d-b10a-4dab-85a1-e8e51ace0d0d",
   "metadata": {},
   "outputs": [],
   "source": [
    "df_coef = pd.DataFrame({'col_names': list(X_poly_trn.columns),\n",
    "                        'coef':list(ridge.coef_[0])})"
   ]
  },
  {
   "cell_type": "code",
   "execution_count": 47,
   "id": "23c1fc9a",
   "metadata": {},
   "outputs": [
    {
     "name": "stdout",
     "output_type": "stream",
     "text": [
      "(164, 2)\n"
     ]
    },
    {
     "data": {
      "text/html": [
       "<div>\n",
       "<style scoped>\n",
       "    .dataframe tbody tr th:only-of-type {\n",
       "        vertical-align: middle;\n",
       "    }\n",
       "\n",
       "    .dataframe tbody tr th {\n",
       "        vertical-align: top;\n",
       "    }\n",
       "\n",
       "    .dataframe thead th {\n",
       "        text-align: right;\n",
       "    }\n",
       "</style>\n",
       "<table border=\"1\" class=\"dataframe\">\n",
       "  <thead>\n",
       "    <tr style=\"text-align: right;\">\n",
       "      <th></th>\n",
       "      <th>col_names</th>\n",
       "      <th>coef</th>\n",
       "    </tr>\n",
       "  </thead>\n",
       "  <tbody>\n",
       "    <tr>\n",
       "      <th>1</th>\n",
       "      <td>Blast Furnace Slag</td>\n",
       "      <td>0.636145</td>\n",
       "    </tr>\n",
       "    <tr>\n",
       "      <th>5</th>\n",
       "      <td>Coarse Aggregate</td>\n",
       "      <td>2.612272</td>\n",
       "    </tr>\n",
       "    <tr>\n",
       "      <th>6</th>\n",
       "      <td>Fine Aggregate</td>\n",
       "      <td>0.909095</td>\n",
       "    </tr>\n",
       "    <tr>\n",
       "      <th>7</th>\n",
       "      <td>Age</td>\n",
       "      <td>0.123619</td>\n",
       "    </tr>\n",
       "    <tr>\n",
       "      <th>8</th>\n",
       "      <td>Cement^2</td>\n",
       "      <td>0.010445</td>\n",
       "    </tr>\n",
       "    <tr>\n",
       "      <th>9</th>\n",
       "      <td>Cement Blast Furnace Slag</td>\n",
       "      <td>0.031224</td>\n",
       "    </tr>\n",
       "    <tr>\n",
       "      <th>10</th>\n",
       "      <td>Cement Fly Ash</td>\n",
       "      <td>0.008666</td>\n",
       "    </tr>\n",
       "    <tr>\n",
       "      <th>14</th>\n",
       "      <td>Cement Fine Aggregate</td>\n",
       "      <td>0.023399</td>\n",
       "    </tr>\n",
       "    <tr>\n",
       "      <th>16</th>\n",
       "      <td>Blast Furnace Slag^2</td>\n",
       "      <td>0.004927</td>\n",
       "    </tr>\n",
       "    <tr>\n",
       "      <th>17</th>\n",
       "      <td>Blast Furnace Slag Fly Ash</td>\n",
       "      <td>0.015132</td>\n",
       "    </tr>\n",
       "    <tr>\n",
       "      <th>18</th>\n",
       "      <td>Blast Furnace Slag Water</td>\n",
       "      <td>0.011398</td>\n",
       "    </tr>\n",
       "    <tr>\n",
       "      <th>19</th>\n",
       "      <td>Blast Furnace Slag Superplasticizer</td>\n",
       "      <td>0.108260</td>\n",
       "    </tr>\n",
       "    <tr>\n",
       "      <th>21</th>\n",
       "      <td>Blast Furnace Slag Fine Aggregate</td>\n",
       "      <td>0.040342</td>\n",
       "    </tr>\n",
       "    <tr>\n",
       "      <th>22</th>\n",
       "      <td>Blast Furnace Slag Age</td>\n",
       "      <td>0.016544</td>\n",
       "    </tr>\n",
       "    <tr>\n",
       "      <th>24</th>\n",
       "      <td>Fly Ash Water</td>\n",
       "      <td>0.021236</td>\n",
       "    </tr>\n",
       "    <tr>\n",
       "      <th>25</th>\n",
       "      <td>Fly Ash Superplasticizer</td>\n",
       "      <td>0.288636</td>\n",
       "    </tr>\n",
       "    <tr>\n",
       "      <th>27</th>\n",
       "      <td>Fly Ash Fine Aggregate</td>\n",
       "      <td>0.050909</td>\n",
       "    </tr>\n",
       "    <tr>\n",
       "      <th>31</th>\n",
       "      <td>Water Coarse Aggregate</td>\n",
       "      <td>0.020078</td>\n",
       "    </tr>\n",
       "    <tr>\n",
       "      <th>32</th>\n",
       "      <td>Water Fine Aggregate</td>\n",
       "      <td>0.010407</td>\n",
       "    </tr>\n",
       "    <tr>\n",
       "      <th>33</th>\n",
       "      <td>Water Age</td>\n",
       "      <td>0.016039</td>\n",
       "    </tr>\n",
       "    <tr>\n",
       "      <th>35</th>\n",
       "      <td>Superplasticizer Coarse Aggregate</td>\n",
       "      <td>0.357927</td>\n",
       "    </tr>\n",
       "    <tr>\n",
       "      <th>37</th>\n",
       "      <td>Superplasticizer Age</td>\n",
       "      <td>0.601483</td>\n",
       "    </tr>\n",
       "    <tr>\n",
       "      <th>38</th>\n",
       "      <td>Coarse Aggregate^2</td>\n",
       "      <td>0.004922</td>\n",
       "    </tr>\n",
       "    <tr>\n",
       "      <th>42</th>\n",
       "      <td>Fine Aggregate Age</td>\n",
       "      <td>0.010530</td>\n",
       "    </tr>\n",
       "    <tr>\n",
       "      <th>43</th>\n",
       "      <td>Age^2</td>\n",
       "      <td>0.001606</td>\n",
       "    </tr>\n",
       "    <tr>\n",
       "      <th>66</th>\n",
       "      <td>Cement Water Superplasticizer</td>\n",
       "      <td>0.000638</td>\n",
       "    </tr>\n",
       "    <tr>\n",
       "      <th>70</th>\n",
       "      <td>Cement Superplasticizer^2</td>\n",
       "      <td>0.000930</td>\n",
       "    </tr>\n",
       "    <tr>\n",
       "      <th>94</th>\n",
       "      <td>Blast Furnace Slag Water Superplasticizer</td>\n",
       "      <td>0.000233</td>\n",
       "    </tr>\n",
       "    <tr>\n",
       "      <th>98</th>\n",
       "      <td>Blast Furnace Slag Superplasticizer^2</td>\n",
       "      <td>0.000221</td>\n",
       "    </tr>\n",
       "    <tr>\n",
       "      <th>115</th>\n",
       "      <td>Fly Ash Water Superplasticizer</td>\n",
       "      <td>0.000591</td>\n",
       "    </tr>\n",
       "    <tr>\n",
       "      <th>119</th>\n",
       "      <td>Fly Ash Superplasticizer^2</td>\n",
       "      <td>0.001580</td>\n",
       "    </tr>\n",
       "    <tr>\n",
       "      <th>130</th>\n",
       "      <td>Water^2 Superplasticizer</td>\n",
       "      <td>0.001146</td>\n",
       "    </tr>\n",
       "    <tr>\n",
       "      <th>136</th>\n",
       "      <td>Water Superplasticizer Fine Aggregate</td>\n",
       "      <td>0.000637</td>\n",
       "    </tr>\n",
       "    <tr>\n",
       "      <th>146</th>\n",
       "      <td>Superplasticizer^2 Fine Aggregate</td>\n",
       "      <td>0.000393</td>\n",
       "    </tr>\n",
       "    <tr>\n",
       "      <th>147</th>\n",
       "      <td>Superplasticizer^2 Age</td>\n",
       "      <td>0.000688</td>\n",
       "    </tr>\n",
       "  </tbody>\n",
       "</table>\n",
       "</div>"
      ],
      "text/plain": [
       "                                     col_names      coef\n",
       "1                           Blast Furnace Slag  0.636145\n",
       "5                             Coarse Aggregate  2.612272\n",
       "6                               Fine Aggregate  0.909095\n",
       "7                                          Age  0.123619\n",
       "8                                     Cement^2  0.010445\n",
       "9                    Cement Blast Furnace Slag  0.031224\n",
       "10                              Cement Fly Ash  0.008666\n",
       "14                       Cement Fine Aggregate  0.023399\n",
       "16                        Blast Furnace Slag^2  0.004927\n",
       "17                  Blast Furnace Slag Fly Ash  0.015132\n",
       "18                    Blast Furnace Slag Water  0.011398\n",
       "19         Blast Furnace Slag Superplasticizer  0.108260\n",
       "21           Blast Furnace Slag Fine Aggregate  0.040342\n",
       "22                      Blast Furnace Slag Age  0.016544\n",
       "24                               Fly Ash Water  0.021236\n",
       "25                    Fly Ash Superplasticizer  0.288636\n",
       "27                      Fly Ash Fine Aggregate  0.050909\n",
       "31                      Water Coarse Aggregate  0.020078\n",
       "32                        Water Fine Aggregate  0.010407\n",
       "33                                   Water Age  0.016039\n",
       "35           Superplasticizer Coarse Aggregate  0.357927\n",
       "37                        Superplasticizer Age  0.601483\n",
       "38                          Coarse Aggregate^2  0.004922\n",
       "42                          Fine Aggregate Age  0.010530\n",
       "43                                       Age^2  0.001606\n",
       "66               Cement Water Superplasticizer  0.000638\n",
       "70                   Cement Superplasticizer^2  0.000930\n",
       "94   Blast Furnace Slag Water Superplasticizer  0.000233\n",
       "98       Blast Furnace Slag Superplasticizer^2  0.000221\n",
       "115             Fly Ash Water Superplasticizer  0.000591\n",
       "119                 Fly Ash Superplasticizer^2  0.001580\n",
       "130                   Water^2 Superplasticizer  0.001146\n",
       "136      Water Superplasticizer Fine Aggregate  0.000637\n",
       "146          Superplasticizer^2 Fine Aggregate  0.000393\n",
       "147                     Superplasticizer^2 Age  0.000688"
      ]
     },
     "execution_count": 47,
     "metadata": {},
     "output_type": "execute_result"
    }
   ],
   "source": [
    "print(df_coef.shape)\n",
    "df_coef[df_coef['coef'] > 0.0001]"
   ]
  },
  {
   "cell_type": "markdown",
   "id": "2e71bfa5-a658-4ccf-93f0-e6828d263bbd",
   "metadata": {},
   "source": [
    "Considering different values of *alpha*"
   ]
  },
  {
   "cell_type": "code",
   "execution_count": 14,
   "id": "9844f1db-ffa4-4a31-acb9-5667640afda0",
   "metadata": {},
   "outputs": [
    {
     "data": {
      "text/plain": [
       "0.5771751967997469"
      ]
     },
     "execution_count": 14,
     "metadata": {},
     "output_type": "execute_result"
    }
   ],
   "source": [
    "ridge = Ridge(alpha=0.22)\n",
    "ridge.fit(X_train, y_train)\n",
    "y_pred = ridge.predict(X_test)\n",
    "r2_score(y_test, y_pred)"
   ]
  },
  {
   "cell_type": "markdown",
   "id": "6964ca95-a4e4-42c2-9939-9b21cc46e371",
   "metadata": {},
   "source": [
    "Tuning for alpha = [0.01, 0.1, 0.3, 0.6, 1, 1.5, 2, 4, 10]"
   ]
  },
  {
   "cell_type": "code",
   "execution_count": 48,
   "id": "93613ccb-0596-4323-ae3e-fc0f03060b0f",
   "metadata": {},
   "outputs": [
    {
     "name": "stdout",
     "output_type": "stream",
     "text": [
      "[0.5771752740273375, 0.5771752409296147, 0.5771751673801078, 0.577175057058402, 0.5771749099675625, 0.5771747261116775, 0.5771745422643093, 0.5771738069600132, 0.5771716018651836]\n"
     ]
    }
   ],
   "source": [
    "alphas = [0.01, 0.1, 0.3, 0.6, 1, 1.5, 2, 4, 10]\n",
    "scores = []\n",
    "for a in alphas:\n",
    "    ridge = Ridge(alpha=a)\n",
    "    ridge.fit(X_train, y_train)\n",
    "    y_pred = ridge.predict(X_test)\n",
    "    scores.append(r2_score(y_test, y_pred))\n",
    "print(scores)"
   ]
  },
  {
   "cell_type": "code",
   "execution_count": 49,
   "id": "8f78e76b-e9dc-4a49-836c-fe7c29584006",
   "metadata": {},
   "outputs": [
    {
     "name": "stdout",
     "output_type": "stream",
     "text": [
      "Best alpha: 0.01\n",
      "Best Score: 0.5771752740273375\n"
     ]
    }
   ],
   "source": [
    "i_max = np.argmax(scores)\n",
    "print(\"Best alpha:\", alphas[i_max])\n",
    "print(\"Best Score:\", scores[i_max])"
   ]
  },
  {
   "cell_type": "markdown",
   "id": "a24ec476-51e8-4447-87a9-daee396c4976",
   "metadata": {},
   "source": [
    "Tuning for alpha"
   ]
  },
  {
   "cell_type": "code",
   "execution_count": 19,
   "id": "5eaf95ad-e18d-4f47-a88a-3eb081e9f2c5",
   "metadata": {},
   "outputs": [
    {
     "data": {
      "text/plain": [
       "array([1.00000000e-04, 5.26410526e-01, 1.05272105e+00, 1.57903158e+00,\n",
       "       2.10534211e+00, 2.63165263e+00, 3.15796316e+00, 3.68427368e+00,\n",
       "       4.21058421e+00, 4.73689474e+00, 5.26320526e+00, 5.78951579e+00,\n",
       "       6.31582632e+00, 6.84213684e+00, 7.36844737e+00, 7.89475789e+00,\n",
       "       8.42106842e+00, 8.94737895e+00, 9.47368947e+00, 1.00000000e+01])"
      ]
     },
     "execution_count": 19,
     "metadata": {},
     "output_type": "execute_result"
    }
   ],
   "source": [
    "np.linspace(0.0001, 10, 20)"
   ]
  },
  {
   "cell_type": "code",
   "execution_count": 20,
   "id": "875491eb-bc0b-481e-a904-6764f3a479d3",
   "metadata": {},
   "outputs": [],
   "source": [
    "alphas = np.linspace(0.0001, 10, 20)\n",
    "scores = []\n",
    "for a in alphas:\n",
    "    ridge = Ridge(alpha=a)\n",
    "    ridge.fit(X_train, y_train)\n",
    "    y_pred = ridge.predict(X_test)\n",
    "    scores.append(r2_score(y_test, y_pred))"
   ]
  },
  {
   "cell_type": "code",
   "execution_count": 21,
   "id": "87f55a14-b6b4-4c44-85a4-b0af61769ae9",
   "metadata": {},
   "outputs": [
    {
     "name": "stdout",
     "output_type": "stream",
     "text": [
      "Best alpha: 0.0001\n",
      "Best Score: 0.5771752776681036\n"
     ]
    }
   ],
   "source": [
    "i_max = np.argmax(scores)\n",
    "print(\"Best alpha:\", alphas[i_max])\n",
    "print(\"Best Score:\", scores[i_max])"
   ]
  },
  {
   "cell_type": "code",
   "execution_count": null,
   "id": "d616b092",
   "metadata": {},
   "outputs": [],
   "source": []
  }
 ],
 "metadata": {
  "kernelspec": {
   "display_name": "py3-12-0",
   "language": "python",
   "name": "py3-12-0"
  },
  "language_info": {
   "codemirror_mode": {
    "name": "ipython",
    "version": 3
   },
   "file_extension": ".py",
   "mimetype": "text/x-python",
   "name": "python",
   "nbconvert_exporter": "python",
   "pygments_lexer": "ipython3",
   "version": "3.12.0"
  }
 },
 "nbformat": 4,
 "nbformat_minor": 5
}
