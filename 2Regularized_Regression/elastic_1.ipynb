{
 "cells": [
  {
   "cell_type": "code",
   "execution_count": 7,
   "id": "0fbc8d7b-0e7c-41a9-aae5-b851cb660f6d",
   "metadata": {},
   "outputs": [],
   "source": [
    "from ucimlrepo import fetch_ucirepo \n",
    "import pandas as pd\n",
    "from sklearn.linear_model import LinearRegression, ElasticNet\n",
    "import numpy as np\n",
    "from sklearn.metrics import r2_score \n",
    "from sklearn.pipeline import Pipeline\n",
    "from sklearn.model_selection import train_test_split"
   ]
  },
  {
   "cell_type": "code",
   "execution_count": 3,
   "id": "08ed2a40-dd41-4fbf-986a-cdd90a063b43",
   "metadata": {},
   "outputs": [],
   "source": [
    "concrete_compressive_strength = fetch_ucirepo(id=165) \n",
    "X = concrete_compressive_strength.data.features \n",
    "y = concrete_compressive_strength.data.targets"
   ]
  },
  {
   "cell_type": "code",
   "execution_count": 5,
   "id": "c44865a9-dc7e-454d-b5e6-41596517d136",
   "metadata": {},
   "outputs": [
    {
     "data": {
      "text/plain": [
       "0.5766806310401154"
      ]
     },
     "execution_count": 5,
     "metadata": {},
     "output_type": "execute_result"
    }
   ],
   "source": [
    "X_train, X_test, y_train, y_test = train_test_split(X, y, random_state=24, test_size=0.3)\n",
    "elastic = ElasticNet()\n",
    "elastic.fit(X_train, y_train)\n",
    "y_pred = elastic.predict(X_test)\n",
    "r2_score(y_test, y_pred)"
   ]
  },
  {
   "cell_type": "markdown",
   "id": "de3c1d6f-bfa6-4055-a3c0-5f3319a97bbd",
   "metadata": {},
   "source": [
    "Hyper-Parameter Optimization"
   ]
  },
  {
   "cell_type": "code",
   "execution_count": 23,
   "id": "6cec5814-973d-4e71-8c82-a9b376365ea3",
   "metadata": {},
   "outputs": [
    {
     "name": "stdout",
     "output_type": "stream",
     "text": [
      "Best Alpha: 0.0001\n",
      "Best l1 ratio: 0.5771752511863832\n",
      "Best Score: 0.0001\n"
     ]
    }
   ],
   "source": [
    "alphas = np.linspace(0.0001, 10, 20)\n",
    "l1 = np.linspace(0.0001, 1, 10)\n",
    "scores = []\n",
    "for a in alphas:\n",
    "    for i in l1:\n",
    "        elastic = ElasticNet(alpha=a, l1_ratio=i)\n",
    "        elastic.fit(X_train, y_train)\n",
    "        y_pred = elastic.predict(X_test)\n",
    "        scores.append([a,i, r2_score(y_test, y_pred)])\n",
    "df_scores = pd.DataFrame(scores, columns=['alpha','l1_ratio','score'])\n",
    "df_scores.sort_values('score', ascending=False, inplace=True)\n",
    "best_a = df_scores['alpha'].iloc[0]\n",
    "best_l1 = df_scores['score'].iloc[0]\n",
    "best_sc = df_scores['l1_ratio'].iloc[0]\n",
    "print(\"Best Alpha:\", best_a)\n",
    "print(\"Best l1 ratio:\", best_l1)\n",
    "print(\"Best Score:\", best_sc)"
   ]
  }
 ],
 "metadata": {
  "kernelspec": {
   "display_name": "Python 3 (ipykernel)",
   "language": "python",
   "name": "python3"
  },
  "language_info": {
   "codemirror_mode": {
    "name": "ipython",
    "version": 3
   },
   "file_extension": ".py",
   "mimetype": "text/x-python",
   "name": "python",
   "nbconvert_exporter": "python",
   "pygments_lexer": "ipython3",
   "version": "3.9.7"
  }
 },
 "nbformat": 4,
 "nbformat_minor": 5
}
