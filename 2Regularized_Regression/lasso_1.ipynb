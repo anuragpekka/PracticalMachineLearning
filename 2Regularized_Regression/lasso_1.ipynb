{
 "cells": [
  {
   "cell_type": "code",
   "execution_count": 9,
   "id": "0fbc8d7b-0e7c-41a9-aae5-b851cb660f6d",
   "metadata": {},
   "outputs": [],
   "source": [
    "from ucimlrepo import fetch_ucirepo \n",
    "import pandas as pd\n",
    "from sklearn.linear_model import LinearRegression, Lasso\n",
    "import numpy as np\n",
    "from sklearn.metrics import r2_score \n",
    "from sklearn.pipeline import Pipeline\n",
    "from sklearn.model_selection import train_test_split\n",
    "from sklearn.preprocessing import StandardScaler, MinMaxScaler\n",
    "from sklearn.preprocessing import PolynomialFeatures"
   ]
  },
  {
   "cell_type": "code",
   "execution_count": 10,
   "id": "08ed2a40-dd41-4fbf-986a-cdd90a063b43",
   "metadata": {},
   "outputs": [],
   "source": [
    "concrete_compressive_strength = fetch_ucirepo(id=165)\n",
    "X = concrete_compressive_strength.data.features\n",
    "y = concrete_compressive_strength.data.targets"
   ]
  },
  {
   "cell_type": "code",
   "execution_count": 11,
   "id": "c44865a9-dc7e-454d-b5e6-41596517d136",
   "metadata": {},
   "outputs": [
    {
     "data": {
      "text/plain": [
       "0.576333587787164"
      ]
     },
     "execution_count": 11,
     "metadata": {},
     "output_type": "execute_result"
    }
   ],
   "source": [
    "X_train, X_test, y_train, y_test = train_test_split(X, y, random_state=24, test_size=0.3)\n",
    "lasso = Lasso()\n",
    "lasso.fit(X_train, y_train)\n",
    "y_pred = lasso.predict(X_test)\n",
    "r2_score(y_test, y_pred)"
   ]
  },
  {
   "cell_type": "markdown",
   "id": "de3c1d6f-bfa6-4055-a3c0-5f3319a97bbd",
   "metadata": {},
   "source": [
    "Hyper-Parameter Optimization"
   ]
  },
  {
   "cell_type": "code",
   "execution_count": 12,
   "id": "6cec5814-973d-4e71-8c82-a9b376365ea3",
   "metadata": {},
   "outputs": [],
   "source": [
    "alphas = np.linspace(0.0001, 10, 20)\n",
    "scores = []\n",
    "for a in alphas:\n",
    "    lasso = Lasso(alpha=a)\n",
    "    lasso.fit(X_train, y_train)\n",
    "    y_pred = lasso.predict(X_test)\n",
    "    scores.append(r2_score(y_test, y_pred))"
   ]
  },
  {
   "cell_type": "code",
   "execution_count": 13,
   "id": "7d89fd74-8f83-4507-bf52-22e5146320a2",
   "metadata": {},
   "outputs": [
    {
     "name": "stdout",
     "output_type": "stream",
     "text": [
      "Best alpha: 0.0001\n",
      "Best Score: 0.5771752162488388\n"
     ]
    }
   ],
   "source": [
    "i_max = np.argmax(scores)\n",
    "print(\"Best alpha:\", alphas[i_max])\n",
    "print(\"Best Score:\", scores[i_max])"
   ]
  },
  {
   "cell_type": "code",
   "execution_count": null,
   "id": "a602bdc1",
   "metadata": {},
   "outputs": [],
   "source": []
  }
 ],
 "metadata": {
  "kernelspec": {
   "display_name": "py3-12-0",
   "language": "python",
   "name": "py3-12-0"
  },
  "language_info": {
   "codemirror_mode": {
    "name": "ipython",
    "version": 3
   },
   "file_extension": ".py",
   "mimetype": "text/x-python",
   "name": "python",
   "nbconvert_exporter": "python",
   "pygments_lexer": "ipython3",
   "version": "3.12.0"
  }
 },
 "nbformat": 4,
 "nbformat_minor": 5
}
